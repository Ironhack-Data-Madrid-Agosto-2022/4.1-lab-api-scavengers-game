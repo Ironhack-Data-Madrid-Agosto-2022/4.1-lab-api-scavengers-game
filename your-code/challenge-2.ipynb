{
 "cells": [
  {
   "cell_type": "markdown",
   "id": "threaded-asbestos",
   "metadata": {},
   "source": [
    "# Challenge 2: Count Commits\n",
    "\n",
    "Count how many commits were made in the past week.\n",
    "\n",
    "Obtain all the commits made in the past week via API, which is a JSON array that contains multiple commit objects.\n",
    "\n",
    "Count how many commit objects are contained in the array."
   ]
  },
  {
   "cell_type": "markdown",
   "id": "norwegian-praise",
   "metadata": {},
   "source": [
    "⚠️ **Remember to limit your output before submission**."
   ]
  },
  {
   "cell_type": "code",
   "execution_count": 1,
   "id": "3d1ee929",
   "metadata": {},
   "outputs": [],
   "source": [
    "import json\n",
    "import requests as req"
   ]
  },
  {
   "cell_type": "code",
   "execution_count": 2,
   "id": "f126289f",
   "metadata": {},
   "outputs": [],
   "source": [
    "import os\n",
    "from dotenv import load_dotenv"
   ]
  },
  {
   "cell_type": "code",
   "execution_count": 3,
   "id": "eee82df1",
   "metadata": {},
   "outputs": [
    {
     "data": {
      "text/plain": [
       "True"
      ]
     },
     "execution_count": 3,
     "metadata": {},
     "output_type": "execute_result"
    }
   ],
   "source": [
    "load_dotenv()"
   ]
  },
  {
   "cell_type": "code",
   "execution_count": 4,
   "id": "4d5aae15",
   "metadata": {},
   "outputs": [],
   "source": [
    "github = os.getenv(\"token\")"
   ]
  },
  {
   "cell_type": "code",
   "execution_count": 5,
   "id": "creative-stable",
   "metadata": {},
   "outputs": [],
   "source": [
    "#dos.json()['commit']['date']"
   ]
  },
  {
   "cell_type": "code",
   "execution_count": 6,
   "id": "6d905bf9",
   "metadata": {},
   "outputs": [],
   "source": [
    "url2='https://api.github.com/repos/Ironhack-Data-Madrid-Agosto-2022/Apuntes-de-clase/commits'"
   ]
  },
  {
   "cell_type": "code",
   "execution_count": 7,
   "id": "ee91c70c",
   "metadata": {},
   "outputs": [],
   "source": [
    "res=req.get(url2)"
   ]
  },
  {
   "cell_type": "code",
   "execution_count": 8,
   "id": "3aa2fbf9",
   "metadata": {},
   "outputs": [],
   "source": [
    "rara=res.json()"
   ]
  },
  {
   "cell_type": "code",
   "execution_count": 9,
   "id": "9b30f97e",
   "metadata": {},
   "outputs": [
    {
     "data": {
      "text/plain": [
       "30"
      ]
     },
     "execution_count": 9,
     "metadata": {},
     "output_type": "execute_result"
    }
   ],
   "source": [
    "len(rara)"
   ]
  },
  {
   "cell_type": "code",
   "execution_count": null,
   "id": "3abc40e8",
   "metadata": {},
   "outputs": [],
   "source": [
    "rara"
   ]
  },
  {
   "cell_type": "code",
   "execution_count": 10,
   "id": "76e23a75",
   "metadata": {},
   "outputs": [
    {
     "data": {
      "text/plain": [
       "dict_keys(['sha', 'node_id', 'commit', 'url', 'html_url', 'comments_url', 'author', 'committer', 'parents'])"
      ]
     },
     "execution_count": 10,
     "metadata": {},
     "output_type": "execute_result"
    }
   ],
   "source": [
    "res.json()[0].keys()"
   ]
  },
  {
   "cell_type": "code",
   "execution_count": 11,
   "id": "72c3d051",
   "metadata": {},
   "outputs": [
    {
     "data": {
      "text/plain": [
       "{'author': {'name': 'YonatanRA',\n",
       "  'email': 'yeho@mail.com',\n",
       "  'date': '2022-08-31T09:04:14Z'},\n",
       " 'committer': {'name': 'YonatanRA',\n",
       "  'email': 'yeho@mail.com',\n",
       "  'date': '2022-08-31T09:04:14Z'},\n",
       " 'message': 'selenium',\n",
       " 'tree': {'sha': 'ff0b99ff3b115778141c9436db23199e34501fcf',\n",
       "  'url': 'https://api.github.com/repos/Ironhack-Data-Madrid-Agosto-2022/Apuntes-de-clase/git/trees/ff0b99ff3b115778141c9436db23199e34501fcf'},\n",
       " 'url': 'https://api.github.com/repos/Ironhack-Data-Madrid-Agosto-2022/Apuntes-de-clase/git/commits/363b8b1d1cf0989676c9814c30e307134a95f464',\n",
       " 'comment_count': 0,\n",
       " 'verification': {'verified': False,\n",
       "  'reason': 'unsigned',\n",
       "  'signature': None,\n",
       "  'payload': None}}"
      ]
     },
     "execution_count": 11,
     "metadata": {},
     "output_type": "execute_result"
    }
   ],
   "source": [
    "res.json()[5]['commit']"
   ]
  },
  {
   "cell_type": "code",
   "execution_count": null,
   "id": "633edb5a",
   "metadata": {},
   "outputs": [],
   "source": [
    "type(rara)"
   ]
  },
  {
   "cell_type": "code",
   "execution_count": 12,
   "id": "aadff7a0",
   "metadata": {},
   "outputs": [
    {
     "data": {
      "text/plain": [
       "'2022-09-01T10:39:44Z'"
      ]
     },
     "execution_count": 12,
     "metadata": {},
     "output_type": "execute_result"
    }
   ],
   "source": [
    "rara[0]['commit']['author']['date']"
   ]
  },
  {
   "cell_type": "code",
   "execution_count": 16,
   "id": "f1bbe45f",
   "metadata": {},
   "outputs": [
    {
     "data": {
      "text/plain": [
       "['2022-09-01T10:39:44Z',\n",
       " '2022-09-01T10:00:48Z',\n",
       " '2022-09-01T08:12:57Z',\n",
       " '2022-08-31T10:43:41Z',\n",
       " '2022-08-31T09:41:06Z',\n",
       " '2022-08-31T09:04:14Z',\n",
       " '2022-08-31T08:22:30Z',\n",
       " '2022-08-31T07:14:56Z',\n",
       " '2022-08-30T11:07:24Z',\n",
       " '2022-08-30T09:26:32Z',\n",
       " '2022-08-30T08:49:10Z',\n",
       " '2022-08-29T10:50:39Z',\n",
       " '2022-08-29T09:21:58Z',\n",
       " '2022-08-29T06:46:47Z',\n",
       " '2022-08-27T15:55:10Z',\n",
       " '2022-08-25T10:51:12Z',\n",
       " '2022-08-25T09:41:21Z',\n",
       " '2022-08-25T09:15:03Z',\n",
       " '2022-08-25T08:05:39Z',\n",
       " '2022-08-25T07:02:00Z',\n",
       " '2022-08-24T16:08:31Z',\n",
       " '2022-08-24T10:56:16Z',\n",
       " '2022-08-24T10:55:44Z',\n",
       " '2022-08-24T09:22:53Z',\n",
       " '2022-08-24T07:51:40Z',\n",
       " '2022-08-24T07:37:33Z',\n",
       " '2022-08-23T10:50:15Z',\n",
       " '2022-08-23T09:56:43Z',\n",
       " '2022-08-23T07:12:41Z']"
      ]
     },
     "execution_count": 16,
     "metadata": {},
     "output_type": "execute_result"
    }
   ],
   "source": [
    "Commits=[]\n",
    "for i in range(len(rara)-1):\n",
    "    a=rara[i]['commit']['author']['date']\n",
    "    Commits.append(a)\n",
    "Commits\n"
   ]
  },
  {
   "cell_type": "code",
   "execution_count": 17,
   "id": "fcabd903",
   "metadata": {},
   "outputs": [
    {
     "data": {
      "text/plain": [
       "['2022-09-01T10:39:44Z',\n",
       " '2022-09-01T10:00:48Z',\n",
       " '2022-09-01T08:12:57Z',\n",
       " '2022-08-31T10:43:41Z',\n",
       " '2022-08-31T09:41:06Z',\n",
       " '2022-08-31T09:04:14Z',\n",
       " '2022-08-31T08:22:30Z',\n",
       " '2022-08-31T07:14:56Z',\n",
       " '2022-08-30T11:07:24Z',\n",
       " '2022-08-30T09:26:32Z',\n",
       " '2022-08-30T08:49:10Z',\n",
       " '2022-08-29T10:50:39Z',\n",
       " '2022-08-29T09:21:58Z',\n",
       " '2022-08-29T06:46:47Z',\n",
       " '2022-08-27T15:55:10Z',\n",
       " '2022-08-25T10:51:12Z',\n",
       " '2022-08-25T09:41:21Z',\n",
       " '2022-08-25T09:15:03Z',\n",
       " '2022-08-25T08:05:39Z',\n",
       " '2022-08-25T07:02:00Z',\n",
       " '2022-08-24T16:08:31Z',\n",
       " '2022-08-24T10:56:16Z',\n",
       " '2022-08-24T10:55:44Z',\n",
       " '2022-08-24T09:22:53Z',\n",
       " '2022-08-24T07:51:40Z',\n",
       " '2022-08-24T07:37:33Z',\n",
       " '2022-08-23T10:50:15Z',\n",
       " '2022-08-23T09:56:43Z',\n",
       " '2022-08-23T07:12:41Z']"
      ]
     },
     "execution_count": 17,
     "metadata": {},
     "output_type": "execute_result"
    }
   ],
   "source": [
    "Ultimas=[]\n",
    "\n",
    "for i in Commits:\n",
    "    if i>='2022-08-22':\n",
    "        Ultimas.append(i)\n",
    "    else:\n",
    "        pass\n",
    "\n",
    "Ultimas\n",
    "    "
   ]
  }
 ],
 "metadata": {
  "kernelspec": {
   "display_name": "Python 3 (ipykernel)",
   "language": "python",
   "name": "python3"
  },
  "language_info": {
   "codemirror_mode": {
    "name": "ipython",
    "version": 3
   },
   "file_extension": ".py",
   "mimetype": "text/x-python",
   "name": "python",
   "nbconvert_exporter": "python",
   "pygments_lexer": "ipython3",
   "version": "3.9.12"
  },
  "toc": {
   "base_numbering": 1,
   "nav_menu": {},
   "number_sections": true,
   "sideBar": true,
   "skip_h1_title": true,
   "title_cell": "Table of Contents",
   "title_sidebar": "Contents",
   "toc_cell": false,
   "toc_position": {
    "height": "calc(100% - 180px)",
    "left": "10px",
    "top": "150px",
    "width": "288px"
   },
   "toc_section_display": true,
   "toc_window_display": true
  }
 },
 "nbformat": 4,
 "nbformat_minor": 5
}
